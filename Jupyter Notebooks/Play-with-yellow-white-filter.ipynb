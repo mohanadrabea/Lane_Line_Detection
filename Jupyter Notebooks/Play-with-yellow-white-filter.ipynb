{
 "cells": [
  {
   "cell_type": "code",
   "execution_count": 21,
   "metadata": {
    "collapsed": false
   },
   "outputs": [],
   "source": [
    "import cv2\n",
    "import numpy as np\n"
   ]
  },
  {
   "cell_type": "code",
   "execution_count": 22,
   "metadata": {
    "collapsed": true
   },
   "outputs": [],
   "source": [
    "import glob\n",
    "\n",
    "# Make a list of images\n",
    "images = glob.glob('test_images/test*.jpg')\n",
    "images.sort()"
   ]
  },
  {
   "cell_type": "code",
   "execution_count": 29,
   "metadata": {
    "collapsed": false
   },
   "outputs": [],
   "source": [
    "img = cv2.imread(images[4])\n",
    "img2 = img.copy()\n"
   ]
  },
  {
   "cell_type": "code",
   "execution_count": 36,
   "metadata": {
    "collapsed": false
   },
   "outputs": [],
   "source": [
    "# inspired by:\n",
    "# http://docs.opencv.org/3.0-beta/doc/py_tutorials/py_gui/py_trackbar/py_trackbar.html\n",
    "def nothing(x):\n",
    "    pass\n",
    "\n",
    "# Create a black image, a window\n",
    "#img = np.zeros((300,512,3), np.uint8)\n",
    "cv2.namedWindow('image')\n",
    "cv2.namedWindow('trackbar')\n",
    "\n",
    "# create trackbars for color change\n",
    "cv2.createTrackbar('WU','trackbar',255,255,nothing)\n",
    "cv2.createTrackbar('WL','trackbar',200,255,nothing)\n",
    "\n",
    "cv2.createTrackbar('YU_H','trackbar',110,179,nothing)\n",
    "cv2.createTrackbar('YU_V','trackbar',255,255,nothing)\n",
    "cv2.createTrackbar('YU_S','trackbar',255,255,nothing)\n",
    "cv2.createTrackbar('YL_H','trackbar',90,179,nothing)\n",
    "cv2.createTrackbar('YL_V','trackbar',100,255,nothing)\n",
    "cv2.createTrackbar('YL_S','trackbar',100,255,nothing)\n",
    "\n",
    "# create switch for ON/OFF functionality\n",
    "switch = '0 : OFF \\n1 : ON'\n",
    "cv2.createTrackbar(switch, 'image',0,1,nothing)\n",
    "\n",
    "while(1):   \n",
    "    cv2.imshow('image',img2)\n",
    "    # get current positions of four trackbars\n",
    "    WU = cv2.getTrackbarPos('WU','trackbar')\n",
    "    WL = cv2.getTrackbarPos('WL','trackbar')\n",
    "    \n",
    "    YU_H = cv2.getTrackbarPos('YU_H','trackbar')\n",
    "    YU_V = cv2.getTrackbarPos('YU_V','trackbar')\n",
    "    YU_S = cv2.getTrackbarPos('YU_S','trackbar')\n",
    "    YL_H = cv2.getTrackbarPos('YL_H','trackbar')\n",
    "    YL_V = cv2.getTrackbarPos('YL_V','trackbar')\n",
    "    YL_S = cv2.getTrackbarPos('YL_S','trackbar')    \n",
    "    \n",
    "    io = cv2.getTrackbarPos(switch,'image')\n",
    "    \n",
    "    # Filter White\n",
    "    high_threshold = np.array([WU, WU, WU]) #Bright white\n",
    "    low_threshold = np.array([WL, WL, WL]) #Soft White\n",
    "    mask = cv2.inRange(img, low_threshold, high_threshold)\n",
    "    white_img = cv2.bitwise_and(img, img, mask=mask)\n",
    "\n",
    "    # Filter Yellow\n",
    "    hsv_img = cv2.cvtColor(img, cv2.COLOR_BGR2HSV) #Changing Color-space, HSV is better for object detection\n",
    "    #For HSV, Hue range is [0,179], Saturation range is [0,255] and Value range is [0,255]. \n",
    "    high_threshold = np.array([YU_H,YU_V,YU_S]) #Bright Yellow\n",
    "    low_threshold = np.array([YL_H,YL_V,YL_S]) #Soft Yellow   \n",
    "    mask = cv2.inRange(hsv_img, low_threshold, high_threshold)\n",
    "    yellow_img = cv2.bitwise_and(img, img, mask=mask)\n",
    "    \n",
    "    # Combine the two above images\n",
    "    filtered_img = cv2.addWeighted(white_img, 1., yellow_img, 1., 0.)     \n",
    "\n",
    "    if io == 0:\n",
    "        img2 = img\n",
    "    else:\n",
    "        img2 = filtered_img\n",
    "\n",
    "    #terminates program\n",
    "    if cv2.waitKey(1) == ord('q'):\n",
    "        break    \n",
    "\n",
    "cv2.destroyAllWindows()"
   ]
  },
  {
   "cell_type": "code",
   "execution_count": 35,
   "metadata": {
    "collapsed": true
   },
   "outputs": [],
   "source": [
    "# Create a black image, a window\n",
    "#img = np.zeros((300,512,3), np.uint8)\n",
    "cv2.namedWindow('image')\n",
    "cv2.namedWindow('trackbarW')\n",
    "cv2.namedWindow('trackbarY')\n",
    "\n",
    "# create trackbars for color change\n",
    "cv2.createTrackbar('WU_H','trackbarW',179,179,nothing)\n",
    "cv2.createTrackbar('WU_V','trackbarW',255,255,nothing)\n",
    "cv2.createTrackbar('WU_S','trackbarW',255,255,nothing)\n",
    "cv2.createTrackbar('WL_H','trackbarW',200,255,nothing)\n",
    "cv2.createTrackbar('WL_V','trackbarW',200,255,nothing)\n",
    "cv2.createTrackbar('WL_S','trackbarW',200,255,nothing)\n",
    "\n",
    "cv2.createTrackbar('YU_H','trackbarY',110,179,nothing)\n",
    "cv2.createTrackbar('YU_V','trackbarY',255,255,nothing)\n",
    "cv2.createTrackbar('YU_S','trackbarY',255,255,nothing)\n",
    "cv2.createTrackbar('YL_H','trackbarY',90,179,nothing)\n",
    "cv2.createTrackbar('YL_V','trackbarY',100,255,nothing)\n",
    "cv2.createTrackbar('YL_S','trackbarY',100,255,nothing)\n",
    "\n",
    "# create switch for ON/OFF functionality\n",
    "switch = '0 : OFF \\n1 : ON'\n",
    "cv2.createTrackbar(switch, 'image',0,1,nothing)\n",
    "\n",
    "while(1):   \n",
    "    cv2.imshow('image',img2)\n",
    "    # get current positions of four trackbars\n",
    "    WU_H = cv2.getTrackbarPos('WU_H','trackbarW')\n",
    "    WU_V = cv2.getTrackbarPos('WU_V','trackbarW')\n",
    "    WU_S = cv2.getTrackbarPos('WU_S','trackbarW')\n",
    "    WL_H = cv2.getTrackbarPos('WL_H','trackbarW')\n",
    "    WL_V = cv2.getTrackbarPos('WL_V','trackbarW')\n",
    "    WL_S = cv2.getTrackbarPos('WL_S','trackbarW')\n",
    "    \n",
    "    YU_H = cv2.getTrackbarPos('YU_H','trackbarY')\n",
    "    YU_V = cv2.getTrackbarPos('YU_V','trackbarY')\n",
    "    YU_S = cv2.getTrackbarPos('YU_S','trackbarY')\n",
    "    YL_H = cv2.getTrackbarPos('YL_H','trackbarY')\n",
    "    YL_V = cv2.getTrackbarPos('YL_V','trackbarY')\n",
    "    YL_S = cv2.getTrackbarPos('YL_S','trackbarY')    \n",
    "    \n",
    "    io = cv2.getTrackbarPos(switch,'image')\n",
    "    \n",
    "    # Filter White\n",
    "    high_threshold = np.array([WU_H,WU_V,WU_S]) #Bright white\n",
    "    low_threshold = np.array([WL_H,WL_V,WL_S]) #Soft White\n",
    "    mask = cv2.inRange(img, low_threshold, high_threshold)\n",
    "    white_img = cv2.bitwise_and(img, img, mask=mask)\n",
    "\n",
    "    # Filter Yellow\n",
    "    hsv_img = cv2.cvtColor(img, cv2.COLOR_BGR2HSV) #Changing Color-space, HSV is better for object detection\n",
    "    #For HSV, Hue range is [0,179], Saturation range is [0,255] and Value range is [0,255]. \n",
    "    high_threshold = np.array([YU_H,YU_V,YU_S]) #Bright Yellow\n",
    "    low_threshold = np.array([YL_H,YL_V,YL_S]) #Soft Yellow   \n",
    "    mask = cv2.inRange(hsv_img, low_threshold, high_threshold)\n",
    "    yellow_img = cv2.bitwise_and(img, img, mask=mask)\n",
    "    \n",
    "    # Combine the two above images\n",
    "    filtered_img = cv2.addWeighted(white_img, 1., yellow_img, 1., 0.)     \n",
    "\n",
    "    if io == 0:\n",
    "        img2 = img\n",
    "    else:\n",
    "        img2 = filtered_img\n",
    "\n",
    "    #terminates program\n",
    "    if cv2.waitKey(1) == ord('q'):\n",
    "        break    \n",
    "\n",
    "cv2.destroyAllWindows()"
   ]
  },
  {
   "cell_type": "code",
   "execution_count": null,
   "metadata": {
    "collapsed": true
   },
   "outputs": [],
   "source": []
  }
 ],
 "metadata": {
  "kernelspec": {
   "display_name": "Python 3",
   "language": "python",
   "name": "python3"
  },
  "language_info": {
   "codemirror_mode": {
    "name": "ipython",
    "version": 3
   },
   "file_extension": ".py",
   "mimetype": "text/x-python",
   "name": "python",
   "nbconvert_exporter": "python",
   "pygments_lexer": "ipython3",
   "version": "3.5.2"
  },
  "widgets": {
   "state": {},
   "version": "1.1.2"
  }
 },
 "nbformat": 4,
 "nbformat_minor": 2
}
